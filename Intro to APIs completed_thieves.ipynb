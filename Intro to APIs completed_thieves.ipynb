{
 "cells": [
  {
   "cell_type": "markdown",
   "id": "7196054f",
   "metadata": {},
   "source": [
    "# Working with APIs"
   ]
  },
  {
   "cell_type": "markdown",
   "id": "0547b71e",
   "metadata": {},
   "source": [
    "API stands for Application programming interface<br>\n",
    "APIs are a way for applications to talk to eachother<br>\n",
    "In python we use the requests package to handle the connection<br>\n",
    "<small><strong>Note: It is requests with an s not request(this is a different package)</strong></small><br>\n",
    "Most API's communicate with data in the form of JSON<br>\n",
    "JSON stands for JavaScript Object Notation"
   ]
  },
  {
   "attachments": {},
   "cell_type": "markdown",
   "id": "1e486af1",
   "metadata": {},
   "source": [
    "### importing requests module"
   ]
  },
  {
   "cell_type": "code",
   "execution_count": 3,
   "id": "4db9d154",
   "metadata": {},
   "outputs": [],
   "source": [
    "import requests"
   ]
  },
  {
   "cell_type": "markdown",
   "id": "e8c2ce51",
   "metadata": {},
   "source": [
    "We will be connecting to the Ergast F1 Racer API today:\n",
    "http://ergast.com/mrd/\n",
    "\n",
    "to view JSON data nicely in the Chrome browser install the extension JSONview"
   ]
  },
  {
   "cell_type": "code",
   "execution_count": 4,
   "id": "52c440c6",
   "metadata": {},
   "outputs": [],
   "source": [
    "# Make sure to attach extension .json at the end of url\n",
    "url = 'http://ergast.com/api/f1/2008/5/driverStandings.json'"
   ]
  },
  {
   "attachments": {},
   "cell_type": "markdown",
   "id": "dfbbc95e",
   "metadata": {},
   "source": [
    "### using the request package to access data from api/url"
   ]
  },
  {
   "cell_type": "code",
   "execution_count": 8,
   "id": "f60c1b4a",
   "metadata": {},
   "outputs": [
    {
     "name": "stdout",
     "output_type": "stream",
     "text": [
      "<Response [200]>\n"
     ]
    }
   ],
   "source": [
    "response = requests.get(url)"
   ]
  },
  {
   "attachments": {},
   "cell_type": "markdown",
   "id": "0d7503f9",
   "metadata": {},
   "source": [
    "### checking and making sure we got a successful response from our API\n",
    "#### status codes: 200 = ok/successful, 400 = bad/unsuccessful"
   ]
  },
  {
   "cell_type": "code",
   "execution_count": 7,
   "id": "7b63a204",
   "metadata": {},
   "outputs": [
    {
     "data": {
      "text/plain": [
       "True"
      ]
     },
     "execution_count": 7,
     "metadata": {},
     "output_type": "execute_result"
    }
   ],
   "source": [
    "response.status_code\n",
    "response.ok"
   ]
  },
  {
   "attachments": {},
   "cell_type": "markdown",
   "id": "9d869626",
   "metadata": {},
   "source": [
    "### view the response as a JSON with .json()"
   ]
  },
  {
   "cell_type": "code",
   "execution_count": 9,
   "id": "ed4d3256",
   "metadata": {},
   "outputs": [
    {
     "data": {
      "text/plain": [
       "dict"
      ]
     },
     "execution_count": 9,
     "metadata": {},
     "output_type": "execute_result"
    }
   ],
   "source": [
    "response.json()\n",
    "type(response.json())"
   ]
  },
  {
   "attachments": {},
   "cell_type": "markdown",
   "id": "eb626cd5",
   "metadata": {},
   "source": [
    "### Get the Driver Standings Data from JSON"
   ]
  },
  {
   "cell_type": "code",
   "execution_count": 12,
   "id": "92e6cd2c",
   "metadata": {},
   "outputs": [],
   "source": [
    "driver_standings_data = response.json()['MRData']['StandingsTable']['StandingsLists'][0]['DriverStandings']"
   ]
  },
  {
   "attachments": {},
   "cell_type": "markdown",
   "id": "e2c9acc0",
   "metadata": {},
   "source": [
    "### Use a for loop to display all driver full names"
   ]
  },
  {
   "cell_type": "code",
   "execution_count": 13,
   "id": "f074dfcf",
   "metadata": {},
   "outputs": [
    {
     "name": "stdout",
     "output_type": "stream",
     "text": [
      "Kimi Räikkönen\n",
      "Felipe Massa\n",
      "Lewis Hamilton\n",
      "Robert Kubica\n",
      "Nick Heidfeld\n",
      "Heikki Kovalainen\n",
      "Mark Webber\n",
      "Fernando Alonso\n",
      "Jarno Trulli\n",
      "Nico Rosberg\n",
      "Kazuki Nakajima\n",
      "Jenson Button\n",
      "Sébastien Bourdais\n",
      "David Coulthard\n",
      "Timo Glock\n",
      "Giancarlo Fisichella\n",
      "Rubens Barrichello\n",
      "Nelson Piquet Jr.\n",
      "Takuma Sato\n",
      "Anthony Davidson\n",
      "Adrian Sutil\n",
      "Sebastian Vettel\n"
     ]
    }
   ],
   "source": [
    "for driver in driver_standings_data:\n",
    "    print(driver['Driver']['givenName'], driver['Driver']['familyName'])"
   ]
  },
  {
   "attachments": {},
   "cell_type": "markdown",
   "id": "20a801d4",
   "metadata": {},
   "source": [
    "### Create a function getting certain driver info (givenName, familyName, dateOfBirth, wins, team)\n"
   ]
  },
  {
   "cell_type": "code",
   "execution_count": 58,
   "id": "be46a950",
   "metadata": {},
   "outputs": [
    {
     "data": {
      "text/plain": [
       "[{'Kimi Räikkönen': {'DOB': '1979-10-17', 'wins': '2', 'team': 'Ferrari'}},\n",
       " {'Felipe Massa': {'DOB': '1981-04-25', 'wins': '2', 'team': 'Ferrari'}},\n",
       " {'Lewis Hamilton': {'DOB': '1985-01-07', 'wins': '1', 'team': 'McLaren'}},\n",
       " {'Robert Kubica': {'DOB': '1984-12-07', 'wins': '0', 'team': 'BMW Sauber'}},\n",
       " {'Nick Heidfeld': {'DOB': '1977-05-10', 'wins': '0', 'team': 'BMW Sauber'}},\n",
       " {'Heikki Kovalainen': {'DOB': '1981-10-19', 'wins': '0', 'team': 'McLaren'}},\n",
       " {'Mark Webber': {'DOB': '1976-08-27', 'wins': '0', 'team': 'Red Bull'}},\n",
       " {'Fernando Alonso': {'DOB': '1981-07-29', 'wins': '0', 'team': 'Renault'}},\n",
       " {'Jarno Trulli': {'DOB': '1974-07-13', 'wins': '0', 'team': 'Toyota'}},\n",
       " {'Nico Rosberg': {'DOB': '1985-06-27', 'wins': '0', 'team': 'Williams'}},\n",
       " {'Kazuki Nakajima': {'DOB': '1985-01-11', 'wins': '0', 'team': 'Williams'}},\n",
       " {'Jenson Button': {'DOB': '1980-01-19', 'wins': '0', 'team': 'Honda'}},\n",
       " {'Sébastien Bourdais': {'DOB': '1979-02-28',\n",
       "   'wins': '0',\n",
       "   'team': 'Toro Rosso'}},\n",
       " {'David Coulthard': {'DOB': '1971-03-27', 'wins': '0', 'team': 'Red Bull'}},\n",
       " {'Timo Glock': {'DOB': '1982-03-18', 'wins': '0', 'team': 'Toyota'}},\n",
       " {'Giancarlo Fisichella': {'DOB': '1973-01-14',\n",
       "   'wins': '0',\n",
       "   'team': 'Force India'}},\n",
       " {'Rubens Barrichello': {'DOB': '1972-05-23', 'wins': '0', 'team': 'Honda'}},\n",
       " {'Nelson Piquet Jr.': {'DOB': '1985-07-25', 'wins': '0', 'team': 'Renault'}},\n",
       " {'Takuma Sato': {'DOB': '1977-01-28', 'wins': '0', 'team': 'Super Aguri'}},\n",
       " {'Anthony Davidson': {'DOB': '1979-04-18',\n",
       "   'wins': '0',\n",
       "   'team': 'Super Aguri'}},\n",
       " {'Adrian Sutil': {'DOB': '1983-01-11', 'wins': '0', 'team': 'Force India'}},\n",
       " {'Sebastian Vettel': {'DOB': '1987-07-03',\n",
       "   'wins': '0',\n",
       "   'team': 'Toro Rosso'}}]"
      ]
     },
     "execution_count": 58,
     "metadata": {},
     "output_type": "execute_result"
    }
   ],
   "source": [
    "def get_driver_info(data):\n",
    "    new_driver_data = []\n",
    "    for driver in data:\n",
    "        driver_dict = {}\n",
    "        full_name = f'{driver[\"Driver\"][\"givenName\"]} {driver[\"Driver\"][\"familyName\"]}'\n",
    "        driver_dict[full_name] = {\n",
    "            'DOB': driver['Driver']['dateOfBirth'],\n",
    "            'wins': driver['wins'],\n",
    "            'team': driver['Constructors'][0]['name']\n",
    "        }\n",
    "        new_driver_data.append(driver_dict)\n",
    "    return new_driver_data\n",
    "\n",
    "get_driver_info(driver_standings_data)"
   ]
  },
  {
   "attachments": {},
   "cell_type": "markdown",
   "id": "4804a219",
   "metadata": {},
   "source": [
    "### Making a more flexible function to handle different years and rounds"
   ]
  },
  {
   "cell_type": "code",
   "execution_count": 53,
   "id": "3740c752",
   "metadata": {},
   "outputs": [
    {
     "data": {
      "text/plain": [
       "[{'Max Verstappen': {'DOB': '1997-09-30', 'wins': '2', 'team': 'Red Bull'}},\n",
       " {'Lewis Hamilton': {'DOB': '1985-01-07', 'wins': '3', 'team': 'Mercedes'}},\n",
       " {'Lando Norris': {'DOB': '1999-11-13', 'wins': '0', 'team': 'McLaren'}},\n",
       " {'Valtteri Bottas': {'DOB': '1989-08-28', 'wins': '0', 'team': 'Mercedes'}},\n",
       " {'Sergio Pérez': {'DOB': '1990-01-26', 'wins': '0', 'team': 'Red Bull'}},\n",
       " {'Charles Leclerc': {'DOB': '1997-10-16', 'wins': '0', 'team': 'Ferrari'}},\n",
       " {'Carlos Sainz': {'DOB': '1994-09-01', 'wins': '0', 'team': 'Ferrari'}},\n",
       " {'Daniel Ricciardo': {'DOB': '1989-07-01', 'wins': '0', 'team': 'McLaren'}},\n",
       " {'Pierre Gasly': {'DOB': '1996-02-07', 'wins': '0', 'team': 'AlphaTauri'}},\n",
       " {'Esteban Ocon': {'DOB': '1996-09-17',\n",
       "   'wins': '0',\n",
       "   'team': 'Alpine F1 Team'}},\n",
       " {'Sebastian Vettel': {'DOB': '1987-07-03',\n",
       "   'wins': '0',\n",
       "   'team': 'Aston Martin'}},\n",
       " {'Lance Stroll': {'DOB': '1998-10-29', 'wins': '0', 'team': 'Aston Martin'}},\n",
       " {'Fernando Alonso': {'DOB': '1981-07-29',\n",
       "   'wins': '0',\n",
       "   'team': 'Alpine F1 Team'}},\n",
       " {'Yuki Tsunoda': {'DOB': '2000-05-11', 'wins': '0', 'team': 'AlphaTauri'}},\n",
       " {'Antonio Giovinazzi': {'DOB': '1993-12-14',\n",
       "   'wins': '0',\n",
       "   'team': 'Alfa Romeo'}},\n",
       " {'Kimi Räikkönen': {'DOB': '1979-10-17', 'wins': '0', 'team': 'Alfa Romeo'}},\n",
       " {'George Russell': {'DOB': '1998-02-15', 'wins': '0', 'team': 'Williams'}},\n",
       " {'Nicholas Latifi': {'DOB': '1995-06-29', 'wins': '0', 'team': 'Williams'}},\n",
       " {'Mick Schumacher': {'DOB': '1999-03-22',\n",
       "   'wins': '0',\n",
       "   'team': 'Haas F1 Team'}},\n",
       " {'Nikita Mazepin': {'DOB': '1999-03-02',\n",
       "   'wins': '0',\n",
       "   'team': 'Haas F1 Team'}}]"
      ]
     },
     "execution_count": 53,
     "metadata": {},
     "output_type": "execute_result"
    }
   ],
   "source": [
    "def get_driver_info_year_rnd(year, rnd):\n",
    "    url = f'http://ergast.com/api/f1/{year}/{rnd}/driverStandings.json'\n",
    "    response = requests.get(url)\n",
    "    if response.ok:\n",
    "        standings_data = response.json()['MRData']['StandingsTable']['StandingsLists'][0]['DriverStandings']\n",
    "        return get_driver_info(standings_data)\n",
    "    else:\n",
    "        'That year or round does not exist.'\n",
    "\n",
    "get_driver_info_year_rnd(2021, 5)\n"
   ]
  },
  {
   "cell_type": "markdown",
   "id": "6d546014",
   "metadata": {},
   "source": [
    "# <strong>Homework</strong>\n",
    "check out this Pokemon API https://pokeapi.co/\n",
    "Use the requests package to connect to this API and get and store data for 5 different pokemon.\n",
    "Get the pokemons: name, atleast one ability's name, base_experience, and the URL for its sprite (an image that shows up on screen) for the 'front_shiny', attack base_state, hp base_stat, defense base_stat"
   ]
  },
  {
   "cell_type": "markdown",
   "id": "1b2436cd",
   "metadata": {},
   "source": []
  },
  {
   "cell_type": "code",
   "execution_count": 69,
   "id": "5a9081e3",
   "metadata": {},
   "outputs": [
    {
     "name": "stdout",
     "output_type": "stream",
     "text": [
      "[{'ditto': {'Ability': 'limber', 'Base Experience': 101, 'Front Shiny': 'https://raw.githubusercontent.com/PokeAPI/sprites/master/sprites/pokemon/shiny/132.png', 'Attack Base State': 48, 'HP': 48, 'Defense': 48}}, {'pikachu': {'Ability': 'static', 'Base Experience': 112, 'Front Shiny': 'https://raw.githubusercontent.com/PokeAPI/sprites/master/sprites/pokemon/shiny/25.png', 'Attack Base State': 55, 'HP': 35, 'Defense': 40}}]\n"
     ]
    }
   ],
   "source": [
    "import requests\n",
    "import json\n",
    "\n",
    "def pokemon_data():\n",
    "    pokedex = []\n",
    "    while True: \n",
    "        answer = input(\"Would you like to add a Pokemon to you Pokedex? <yes/no> \").lower()\n",
    "        if answer == 'yes':\n",
    "            name = input(\"Enter the name of the Pokemon you would like to add: \").lower()\n",
    "            url = f'https://pokeapi.co/api/v2/pokemon/{name}'\n",
    "            response = requests.get(url)\n",
    "            if response.ok:\n",
    "                pokemon_dict = {}\n",
    "                pokemon_dict[name] = {\n",
    "                    'Ability': response.json()['abilities'][0]['ability']['name'],\n",
    "                    'Base Experience': response.json()['base_experience'],\n",
    "                    'Front Shiny': response.json()['sprites']['front_shiny'],\n",
    "                    'Attack Base State': response.json()['stats'][1]['base_stat'],\n",
    "                    'HP': response.json()['stats'][0]['base_stat'],\n",
    "                    'Defense': response.json()['stats'][2]['base_stat']\n",
    "            }   \n",
    "                pokedex.append(pokemon_dict)\n",
    "            else:\n",
    "                print('That name was not found. Please try again.')\n",
    "        elif answer == 'no':\n",
    "            break\n",
    "        else:\n",
    "            print(\"Sorry, your answer was not recognized. Please try again.\")\n",
    "    return pokedex\n",
    "\n",
    "print(pokemon_data())"
   ]
  }
 ],
 "metadata": {
  "kernelspec": {
   "display_name": "Python 3",
   "language": "python",
   "name": "python3"
  },
  "language_info": {
   "codemirror_mode": {
    "name": "ipython",
    "version": 3
   },
   "file_extension": ".py",
   "mimetype": "text/x-python",
   "name": "python",
   "nbconvert_exporter": "python",
   "pygments_lexer": "ipython3",
   "version": "3.10.9"
  },
  "vscode": {
   "interpreter": {
    "hash": "aee8b7b246df8f9039afb4144a1f6fd8d2ca17a180786b69acc140d282b71a49"
   }
  }
 },
 "nbformat": 4,
 "nbformat_minor": 5
}
